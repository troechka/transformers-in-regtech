{
 "cells": [
  {
   "cell_type": "code",
   "execution_count": 3,
   "metadata": {},
   "outputs": [],
   "source": [
    "import pandas as pd\n",
    "from sklearn.preprocessing import MultiLabelBinarizer\n",
    "import matplotlib.pyplot as plt"
   ]
  },
  {
   "cell_type": "code",
   "execution_count": 5,
   "metadata": {},
   "outputs": [],
   "source": [
    "concepts = pd.read_json('../data/dictionary.json').T['label']"
   ]
  },
  {
   "cell_type": "code",
   "execution_count": 81,
   "metadata": {},
   "outputs": [
    {
     "name": "stderr",
     "output_type": "stream",
     "text": [
      "Reusing dataset eurlex (/Users/albina-volk/.cache/huggingface/datasets/eurlex/eurlex57k/1.1.0/d2fdeaa4fcb5f41394d2ed0317c8541d7f9be85d2d601b9fa586c8b461bc3a34)\n",
      "Reusing dataset eurlex (/Users/albina-volk/.cache/huggingface/datasets/eurlex/eurlex57k/1.1.0/d2fdeaa4fcb5f41394d2ed0317c8541d7f9be85d2d601b9fa586c8b461bc3a34)\n",
      "Reusing dataset eurlex (/Users/albina-volk/.cache/huggingface/datasets/eurlex/eurlex57k/1.1.0/d2fdeaa4fcb5f41394d2ed0317c8541d7f9be85d2d601b9fa586c8b461bc3a34)\n"
     ]
    },
    {
     "data": {
      "text/plain": [
       "(45000, 6000, 6000)"
      ]
     },
     "execution_count": 81,
     "metadata": {},
     "output_type": "execute_result"
    }
   ],
   "source": [
    "from datasets import load_dataset\n",
    "\"\"\" ...We split EURLEX57K into training (45k documents), development (6k), and test subsets (6k) ...\"\"\"\n",
    "train = load_dataset('eurlex', 'eurlex57k', split='train')\n",
    "test = load_dataset('eurlex', 'eurlex57k', split='test')\n",
    "val = load_dataset('eurlex', 'eurlex57k', split='validation')\n",
    "len(train), len(test), len(val)"
   ]
  },
  {
   "cell_type": "code",
   "execution_count": 68,
   "metadata": {},
   "outputs": [],
   "source": [
    "def ohe(dataset):\n",
    "    one_hot = MultiLabelBinarizer()\n",
    "    labels = dataset['eurovoc_concepts']\n",
    "    ohe = pd.DataFrame(one_hot.fit_transform(labels).T, index=one_hot.classes_)\n",
    "    ohe = pd.merge(concepts, ohe, left_index=True, right_index=True)\n",
    "    ohe.index = ohe['label']\n",
    "    ohe = ohe.drop('label', axis=1)\n",
    "    ohe = ohe.T\n",
    "    return ohe"
   ]
  },
  {
   "cell_type": "code",
   "execution_count": 78,
   "metadata": {},
   "outputs": [],
   "source": [
    "ohe_train = ohe(train)\n",
    "ohe_val = ohe(val)\n",
    "ohe_test = ohe(test)\n",
    "all_documents = pd.concat([ohe_train, ohe_val, ohe_test]).fillna(0)\n",
    "ohe_train = all_documents[:45000]\n",
    "ohe_val = all_documents[45000:51000]\n",
    "ohe_test = all_documents[51000:]"
   ]
  },
  {
   "cell_type": "code",
   "execution_count": 80,
   "metadata": {},
   "outputs": [
    {
     "data": {
      "text/plain": [
       "(2049, 0.47974713181924605)"
      ]
     },
     "execution_count": 80,
     "metadata": {},
     "output_type": "execute_result"
    }
   ],
   "source": [
    "\"\"\" ...in EURLEX57K, from which only 2,049 (47.97%) have been assigned to more than 10 documents... \"\"\"\n",
    "(all_documents.sum() >= 10).sum(), (all_documents.sum() >= 10).sum() / len(all_documents.columns)"
   ]
  },
  {
   "cell_type": "code",
   "execution_count": 84,
   "metadata": {},
   "outputs": [
    {
     "name": "stdout",
     "output_type": "stream",
     "text": [
      "frequent: 746\n",
      "few-shot: 3362\n",
      "zero-shot: 163\n"
     ]
    }
   ],
   "source": [
    "\"\"\"...We also divide the 4,271 labels into frequent (746), few-shot (3,362), and zero-shot (163), depending on whether they were\n",
    "assigned to more than 50, fewer than 50 but at least one, or no training documents, respectively...\"\"\"\n",
    "print(f\"frequent: {(ohe_train.sum() >= 50).sum()}\")\n",
    "print(f\"few-shot: {(ohe_train.sum() > 0).sum() - (ohe_train.sum() >= 50).sum()}\")\n",
    "print(f\"zero-shot: {(ohe_train.sum() == 0).sum()}\")"
   ]
  },
  {
   "cell_type": "code",
   "execution_count": 82,
   "metadata": {},
   "outputs": [
    {
     "data": {
      "text/plain": [
       "<AxesSubplot:>"
      ]
     },
     "execution_count": 82,
     "metadata": {},
     "output_type": "execute_result"
    },
    {
     "data": {
      "image/png": "[encoded data removed]",
      "text/plain": [
       "<Figure size 432x288 with 1 Axes>"
      ]
     },
     "metadata": {
      "needs_background": "light"
     },
     "output_type": "display_data"
    }
   ],
   "source": [
    "ohe_train.sum().hist(bins=100)"
   ]
  }
 ],
 "metadata": {
  "interpreter": {
   "hash": "bda61a32950e8ae34331484a1296938928d965562698c000b65d2ab346626622"
  },
  "kernelspec": {
   "display_name": "Python 3.7.11 ('py37')",
   "language": "python",
   "name": "python3"
  },
  "language_info": {
   "codemirror_mode": {
    "name": "ipython",
    "version": 3
   },
   "file_extension": ".py",
   "mimetype": "text/x-python",
   "name": "python",
   "nbconvert_exporter": "python",
   "pygments_lexer": "ipython3",
   "version": "3.8.2"
  },
  "orig_nbformat": 4
 },
 "nbformat": 4,
 "nbformat_minor": 2
}
