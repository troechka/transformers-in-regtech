{
  "cells": [
    {
      "cell_type": "code",
      "execution_count": 81,
      "metadata": {
        "cellId": "y2bj31y82fhgtrl7iqbmki",
        "id": "ywiI1z3KSRse"
      },
      "outputs": [
        {
          "name": "stdout",
          "output_type": "stream",
          "text": [
            "\u001b[33mWARNING: You are using pip version 21.3.1; however, version 22.0.4 is available.\n",
            "You should consider upgrading via the '/usr/local/bin/python3 -m pip install --upgrade pip' command.\u001b[0m\n"
          ]
        }
      ],
      "source": [
        "%pip install datasets transformers -q"
      ]
    },
    {
      "cell_type": "code",
      "execution_count": 82,
      "metadata": {
        "cellId": "4qpi33k4nqux4msxtphqa",
        "id": "Z9-7tD9lQaIO"
      },
      "outputs": [],
      "source": [
        "import pandas as pd\n",
        "import numpy as np\n",
        "import matplotlib.pyplot as plt\n",
        "import os\n",
        "from tqdm.notebook import tqdm\n",
        "\n",
        "from datasets import load_dataset\n",
        "import random\n",
        "from sklearn import metrics, model_selection, preprocessing\n",
        "import torch\n",
        "import torch.nn as nn\n",
        "import torch.nn.functional as F\n",
        "from torch.utils.data import DataLoader, Dataset\n",
        "import transformers\n",
        "from transformers import AdamW, get_linear_schedule_with_warmup\n",
        "from sklearn.preprocessing import MultiLabelBinarizer"
      ]
    },
    {
      "cell_type": "code",
      "execution_count": 83,
      "metadata": {
        "cellId": "g6ej3uwrwsicw0pg3he1d",
        "id": "Exb7P8WhQaIS"
      },
      "outputs": [],
      "source": [
        "#!g1.1\n",
        "def seed_everything(seed=73):\n",
        "    random.seed(seed)\n",
        "    os.environ['PYTHONHASHSEED'] = str(seed)\n",
        "    np.random.seed(seed)\n",
        "    torch.manual_seed(seed)\n",
        "    torch.cuda.manual_seed(seed)\n",
        "    torch.cuda.manual_seed_all(seed)\n",
        "    # some cudnn methods can be random even after fixing the seed unless you tell it to be deterministic\n",
        "    torch.backends.cudnn.deterministic = True\n",
        "\n",
        "seed_everything(1234)"
      ]
    },
    {
      "cell_type": "code",
      "execution_count": 84,
      "metadata": {
        "cellId": "sfqtfzxkbcehlejqwdizur",
        "colab": {
          "base_uri": "https://localhost:8080/",
          "height": 86,
          "referenced_widgets": [
            "d4c77a2514084242a13872843c9c0a06",
            "7fc9fc51f28a477cbd41abd59e9225ee",
            "d01ae8276f5540f3bfa329bcb3649799",
            "b5972246e77e4e04ad112ce6421fb852",
            "a939b14f4eb14337b5b5b87fec8a3f4c",
            "ddad36878fed4f7eb035e4ebec576caa",
            "283be442b502452ebc9a62e113ad537e",
            "b2efc2415dc0440f9f12e575ae1c1f69",
            "c9a913538f484b35a3757b0c8476a7c7",
            "5994349a1b354814badbcdd4e18dc437",
            "03537193d1ba4b09897a20d07ab98040"
          ]
        },
        "id": "Niw-1aY6QaIU",
        "outputId": "62a64d10-520f-4027-a1d9-27028842e710"
      },
      "outputs": [
        {
          "data": {
            "application/vnd.jupyter.widget-view+json": {
              "model_id": "318b033d5f1f4d1e98aedb36277989cf",
              "version_major": 2,
              "version_minor": 0
            },
            "text/plain": [
              "HBox(children=(FloatProgress(value=0.0, description='Downloading', max=1968.0, style=ProgressStyle(description…"
            ]
          },
          "metadata": {},
          "output_type": "display_data"
        },
        {
          "name": "stderr",
          "output_type": "stream",
          "text": [
            "Couldn't find file locally at eurlex/eurlex.py, or remotely at https://raw.githubusercontent.com/huggingface/datasets/1.5.0/datasets/eurlex/eurlex.py.\n",
            "The file was picked from the master branch on github instead at https://raw.githubusercontent.com/huggingface/datasets/master/datasets/eurlex/eurlex.py.\n"
          ]
        },
        {
          "data": {
            "application/vnd.jupyter.widget-view+json": {
              "model_id": "c2fcdf00724f4de9bf60f7e9c5fcd650",
              "version_major": 2,
              "version_minor": 0
            },
            "text/plain": [
              "HBox(children=(FloatProgress(value=0.0, description='Downloading', max=955.0, style=ProgressStyle(description_…"
            ]
          },
          "metadata": {},
          "output_type": "display_data"
        },
        {
          "data": {
            "application/vnd.jupyter.widget-view+json": {
              "model_id": "980867871d784b01b3d40f4ffe78fd43",
              "version_major": 2,
              "version_minor": 0
            },
            "text/plain": [
              "HBox(children=(FloatProgress(value=0.0, description='Downloading', max=50289403.0, style=ProgressStyle(descrip…"
            ]
          },
          "metadata": {},
          "output_type": "display_data"
        },
        {
          "data": {
            "application/vnd.jupyter.widget-view+json": {
              "model_id": "09a9cc5dc9984fee9f16d9849ea3bdf1",
              "version_major": 2,
              "version_minor": 0
            },
            "text/plain": [
              "HBox(children=(FloatProgress(value=1.0, bar_style='info', layout=Layout(width='20px'), max=1.0), HTML(value=''…"
            ]
          },
          "metadata": {},
          "output_type": "display_data"
        },
        {
          "data": {
            "application/vnd.jupyter.widget-view+json": {
              "model_id": "4342f2a4dbd1466c90f6981931f1aa72",
              "version_major": 2,
              "version_minor": 0
            },
            "text/plain": [
              "HBox(children=(FloatProgress(value=1.0, bar_style='info', layout=Layout(width='20px'), max=1.0), HTML(value=''…"
            ]
          },
          "metadata": {},
          "output_type": "display_data"
        },
        {
          "data": {
            "application/vnd.jupyter.widget-view+json": {
              "model_id": "8bef55f0203b439690651b944c3050cf",
              "version_major": 2,
              "version_minor": 0
            },
            "text/plain": [
              "HBox(children=(FloatProgress(value=1.0, bar_style='info', layout=Layout(width='20px'), max=1.0), HTML(value=''…"
            ]
          },
          "metadata": {},
          "output_type": "display_data"
        },
        {
          "name": "stdout",
          "output_type": "stream",
          "text": [
            "\n",
            "\n",
            "Downloading and preparing dataset eurlex/eurlex57k (download: 47.96 MiB, generated: 201.79 MiB, post-processed: Unknown size, total: 249.75 MiB) to /tmp/xdg_cache/huggingface/datasets/eurlex/eurlex57k/1.1.0/d2fdeaa4fcb5f41394d2ed0317c8541d7f9be85d2d601b9fa586c8b461bc3a34...\n",
            "\n",
            "Dataset eurlex downloaded and prepared to /tmp/xdg_cache/huggingface/datasets/eurlex/eurlex57k/1.1.0/d2fdeaa4fcb5f41394d2ed0317c8541d7f9be85d2d601b9fa586c8b461bc3a34. Subsequent calls will reuse this data.\n"
          ]
        }
      ],
      "source": [
        "dataset = load_dataset('eurlex', 'eurlex57k')\n",
        "data = dataset.data"
      ]
    },
    {
      "cell_type": "code",
      "execution_count": 85,
      "metadata": {
        "cellId": "o8dji4ji57kia1fey40v",
        "id": "nThogcR5QaIV"
      },
      "outputs": [],
      "source": [
        "train, valid, test = data[\"train\"].to_pandas(), data[\"validation\"].to_pandas(), data[\"test\"].to_pandas()"
      ]
    },
    {
      "cell_type": "code",
      "execution_count": 86,
      "metadata": {
        "cellId": "eywlzzy874dqn6sopftw7k",
        "colab": {
          "base_uri": "https://localhost:8080/"
        },
        "id": "X-Hc1rsOQaIW",
        "outputId": "b5b26dc7-23e6-4ae7-824f-993630fa4cf6"
      },
      "outputs": [
        {
          "name": "stdout",
          "output_type": "stream",
          "text": [
            "(45000, 4) (6000, 4) (6000, 4)\n"
          ]
        }
      ],
      "source": [
        "print(train.shape, valid.shape, test.shape) "
      ]
    },
    {
      "cell_type": "code",
      "execution_count": 87,
      "metadata": {
        "cellId": "e24ujyborfruckbscx4xe",
        "id": "OPiIlewH9w97"
      },
      "outputs": [],
      "source": [
        "train['text'] = train['title'] + \" \" + train['text']\n",
        "valid['text'] = valid['title'] + \" \" + valid['text']\n",
        "test['text'] = test['title'] + \" \" + test['text']"
      ]
    },
    {
      "cell_type": "code",
      "execution_count": 88,
      "metadata": {
        "cellId": "s5pl8klnanczdhgpplfw",
        "colab": {
          "base_uri": "https://localhost:8080/",
          "height": 321
        },
        "id": "nWvYggaLQaIW",
        "outputId": "de8f1859-9079-44d0-f24a-b55d5807a1f8"
      },
      "outputs": [
        {
          "data": {
            "text/html": [
              "<div>\n",
              "<style scoped>\n",
              "    .dataframe tbody tr th:only-of-type {\n",
              "        vertical-align: middle;\n",
              "    }\n",
              "\n",
              "    .dataframe tbody tr th {\n",
              "        vertical-align: top;\n",
              "    }\n",
              "\n",
              "    .dataframe thead th {\n",
              "        text-align: right;\n",
              "    }\n",
              "</style>\n",
              "<table border=\"1\" class=\"dataframe\">\n",
              "  <thead>\n",
              "    <tr style=\"text-align: right;\">\n",
              "      <th></th>\n",
              "      <th>celex_id</th>\n",
              "      <th>eurovoc_concepts</th>\n",
              "      <th>text</th>\n",
              "      <th>title</th>\n",
              "    </tr>\n",
              "  </thead>\n",
              "  <tbody>\n",
              "    <tr>\n",
              "      <th>0</th>\n",
              "      <td>32014R0727</td>\n",
              "      <td>[1402, 2771, 3191, 5055, 519, 5969, 5971]</td>\n",
              "      <td>Commission Implementing Regulation (EU) No 727...</td>\n",
              "      <td>Commission Implementing Regulation (EU) No 727...</td>\n",
              "    </tr>\n",
              "    <tr>\n",
              "      <th>1</th>\n",
              "      <td>31975R2481</td>\n",
              "      <td>[2319, 2713, 2938, 693]</td>\n",
              "      <td>Regulation (EEC) No 2481/75 of the Council of ...</td>\n",
              "      <td>Regulation (EEC) No 2481/75 of the Council of ...</td>\n",
              "    </tr>\n",
              "    <tr>\n",
              "      <th>2</th>\n",
              "      <td>32010D0008</td>\n",
              "      <td>[3560, 365, 4256, 4261, 4353, 4585]</td>\n",
              "      <td>2010/8/EU, Euratom: Commission Decision of 22 ...</td>\n",
              "      <td>2010/8/EU, Euratom: Commission Decision of 22 ...</td>\n",
              "    </tr>\n",
              "    <tr>\n",
              "      <th>3</th>\n",
              "      <td>31982D0211</td>\n",
              "      <td>[1091, 3842, 3874, 4110, 4381, 5287]</td>\n",
              "      <td>82/211/EEC: Commission Decision of 17 March 19...</td>\n",
              "      <td>82/211/EEC: Commission Decision of 17 March 19...</td>\n",
              "    </tr>\n",
              "    <tr>\n",
              "      <th>4</th>\n",
              "      <td>31996D0084</td>\n",
              "      <td>[1026, 1048, 2300, 3653, 4271, 4390]</td>\n",
              "      <td>96/84/Euratom, ECSC, EC: Commission Decision o...</td>\n",
              "      <td>96/84/Euratom, ECSC, EC: Commission Decision o...</td>\n",
              "    </tr>\n",
              "  </tbody>\n",
              "</table>\n",
              "</div>"
            ],
            "text/plain": [
              "     celex_id                           eurovoc_concepts  \\\n",
              "0  32014R0727  [1402, 2771, 3191, 5055, 519, 5969, 5971]   \n",
              "1  31975R2481                    [2319, 2713, 2938, 693]   \n",
              "2  32010D0008        [3560, 365, 4256, 4261, 4353, 4585]   \n",
              "3  31982D0211       [1091, 3842, 3874, 4110, 4381, 5287]   \n",
              "4  31996D0084       [1026, 1048, 2300, 3653, 4271, 4390]   \n",
              "\n",
              "                                                text  \\\n",
              "0  Commission Implementing Regulation (EU) No 727...   \n",
              "1  Regulation (EEC) No 2481/75 of the Council of ...   \n",
              "2  2010/8/EU, Euratom: Commission Decision of 22 ...   \n",
              "3  82/211/EEC: Commission Decision of 17 March 19...   \n",
              "4  96/84/Euratom, ECSC, EC: Commission Decision o...   \n",
              "\n",
              "                                               title  \n",
              "0  Commission Implementing Regulation (EU) No 727...  \n",
              "1  Regulation (EEC) No 2481/75 of the Council of ...  \n",
              "2  2010/8/EU, Euratom: Commission Decision of 22 ...  \n",
              "3  82/211/EEC: Commission Decision of 17 March 19...  \n",
              "4  96/84/Euratom, ECSC, EC: Commission Decision o...  "
            ]
          },
          "execution_count": 88,
          "metadata": {},
          "output_type": "execute_result"
        }
      ],
      "source": [
        "train.head()"
      ]
    },
    {
      "cell_type": "code",
      "execution_count": 89,
      "metadata": {
        "cellId": "prfw5dq6btpe1m27vntbkj",
        "id": "_e1EzF7u-lzE"
      },
      "outputs": [],
      "source": [
        "concepts = pd.read_json('dictionary.json').T['label']\n",
        "mapping = concepts.to_dict()"
      ]
    },
    {
      "cell_type": "code",
      "execution_count": 90,
      "metadata": {
        "cellId": "oeg30fnmpajts3imsvxu8j",
        "id": "YcuDkfGpHNwm"
      },
      "outputs": [],
      "source": [
        "indexing = dict(zip(concepts.values, range(len(concepts))))"
      ]
    },
    {
      "cell_type": "code",
      "execution_count": 91,
      "metadata": {
        "cellId": "cq94m9joi9iylbbs04vpuc",
        "id": "oTmlkUMIQaIY"
      },
      "outputs": [],
      "source": [
        "def ohe(dataset):\n",
        "    one_hot = MultiLabelBinarizer()\n",
        "    labels = dataset['eurovoc_concepts']\n",
        "    ohe = pd.DataFrame(one_hot.fit_transform(labels).T, index=one_hot.classes_)\n",
        "    ohe = pd.merge(concepts, ohe, left_index=True, right_index=True)\n",
        "    ohe.index = ohe['label']\n",
        "    ohe = ohe.drop('label', axis=1)\n",
        "    ohe = ohe.T\n",
        "    ohe.columns = list(map(lambda x: indexing[x], ohe.columns.values))\n",
        "    return ohe"
      ]
    },
    {
      "cell_type": "code",
      "execution_count": 92,
      "metadata": {
        "cellId": "q8qc2pgtp0phrz9f3i06dr",
        "id": "bN3O37HeQaIY"
      },
      "outputs": [],
      "source": [
        "ohe_train = ohe(train)\n",
        "ohe_val = ohe(valid)\n",
        "ohe_test = ohe(test)\n",
        "all_documents = pd.concat([ohe_train, ohe_val, ohe_test]).fillna(0)\n",
        "ohe_train = all_documents[:45000]\n",
        "ohe_val = all_documents[45000:51000]\n",
        "ohe_test = all_documents[51000:]"
      ]
    },
    {
      "cell_type": "code",
      "execution_count": 93,
      "metadata": {
        "cellId": "wc3blozpxwol2jrjxpo97b",
        "id": "iCeQEL0uQaIZ"
      },
      "outputs": [],
      "source": [
        "train = pd.concat([train, ohe_train], axis=1)\n",
        "valid = pd.concat([valid, ohe_val], axis=1)\n",
        "test = pd.concat([test, ohe_test], axis=1)"
      ]
    },
    {
      "cell_type": "code",
      "execution_count": 94,
      "metadata": {
        "cellId": "9tmy0zu5fxqmguy8e3lk",
        "id": "BSWynpnwE5lQ"
      },
      "outputs": [],
      "source": [
        "del(ohe_train)\n",
        "del(ohe_test)\n",
        "del(ohe_val)"
      ]
    },
    {
      "cell_type": "code",
      "execution_count": 95,
      "metadata": {
        "cellId": "xdt43sikr0ezs3zemfxfys",
        "id": "lyVxtk0IE2LW"
      },
      "outputs": [],
      "source": [
        "n_labels = len(train.columns) - 4"
      ]
    },
    {
      "cell_type": "code",
      "execution_count": 96,
      "metadata": {
        "cellId": "gou61u2x8fabbh9i1sa2jm",
        "colab": {
          "base_uri": "https://localhost:8080/",
          "height": 557
        },
        "id": "zm6M0UrSQaIZ",
        "outputId": "0bd72e1f-347d-4f2a-e7e1-ab21da80c6f4"
      },
      "outputs": [
        {
          "data": {
            "text/html": [
              "<div>\n",
              "<style scoped>\n",
              "    .dataframe tbody tr th:only-of-type {\n",
              "        vertical-align: middle;\n",
              "    }\n",
              "\n",
              "    .dataframe tbody tr th {\n",
              "        vertical-align: top;\n",
              "    }\n",
              "\n",
              "    .dataframe thead th {\n",
              "        text-align: right;\n",
              "    }\n",
              "</style>\n",
              "<table border=\"1\" class=\"dataframe\">\n",
              "  <thead>\n",
              "    <tr style=\"text-align: right;\">\n",
              "      <th></th>\n",
              "      <th>celex_id</th>\n",
              "      <th>eurovoc_concepts</th>\n",
              "      <th>text</th>\n",
              "      <th>title</th>\n",
              "      <th>0</th>\n",
              "      <th>2</th>\n",
              "      <th>3</th>\n",
              "      <th>5</th>\n",
              "      <th>6</th>\n",
              "      <th>11</th>\n",
              "      <th>...</th>\n",
              "      <th>7182</th>\n",
              "      <th>7185</th>\n",
              "      <th>7186</th>\n",
              "      <th>7188</th>\n",
              "      <th>7190</th>\n",
              "      <th>7191</th>\n",
              "      <th>7192</th>\n",
              "      <th>7194</th>\n",
              "      <th>7196</th>\n",
              "      <th>7200</th>\n",
              "    </tr>\n",
              "  </thead>\n",
              "  <tbody>\n",
              "    <tr>\n",
              "      <th>0</th>\n",
              "      <td>32014R0727</td>\n",
              "      <td>[1402, 2771, 3191, 5055, 519, 5969, 5971]</td>\n",
              "      <td>Commission Implementing Regulation (EU) No 727...</td>\n",
              "      <td>Commission Implementing Regulation (EU) No 727...</td>\n",
              "      <td>0</td>\n",
              "      <td>0.0</td>\n",
              "      <td>0</td>\n",
              "      <td>0</td>\n",
              "      <td>0</td>\n",
              "      <td>0</td>\n",
              "      <td>...</td>\n",
              "      <td>0</td>\n",
              "      <td>0.0</td>\n",
              "      <td>0</td>\n",
              "      <td>0.0</td>\n",
              "      <td>0</td>\n",
              "      <td>0.0</td>\n",
              "      <td>0.0</td>\n",
              "      <td>0</td>\n",
              "      <td>0.0</td>\n",
              "      <td>0</td>\n",
              "    </tr>\n",
              "    <tr>\n",
              "      <th>1</th>\n",
              "      <td>31975R2481</td>\n",
              "      <td>[2319, 2713, 2938, 693]</td>\n",
              "      <td>Regulation (EEC) No 2481/75 of the Council of ...</td>\n",
              "      <td>Regulation (EEC) No 2481/75 of the Council of ...</td>\n",
              "      <td>0</td>\n",
              "      <td>0.0</td>\n",
              "      <td>0</td>\n",
              "      <td>0</td>\n",
              "      <td>0</td>\n",
              "      <td>0</td>\n",
              "      <td>...</td>\n",
              "      <td>0</td>\n",
              "      <td>0.0</td>\n",
              "      <td>0</td>\n",
              "      <td>0.0</td>\n",
              "      <td>0</td>\n",
              "      <td>0.0</td>\n",
              "      <td>0.0</td>\n",
              "      <td>0</td>\n",
              "      <td>0.0</td>\n",
              "      <td>0</td>\n",
              "    </tr>\n",
              "    <tr>\n",
              "      <th>2</th>\n",
              "      <td>32010D0008</td>\n",
              "      <td>[3560, 365, 4256, 4261, 4353, 4585]</td>\n",
              "      <td>2010/8/EU, Euratom: Commission Decision of 22 ...</td>\n",
              "      <td>2010/8/EU, Euratom: Commission Decision of 22 ...</td>\n",
              "      <td>0</td>\n",
              "      <td>0.0</td>\n",
              "      <td>0</td>\n",
              "      <td>0</td>\n",
              "      <td>0</td>\n",
              "      <td>0</td>\n",
              "      <td>...</td>\n",
              "      <td>0</td>\n",
              "      <td>0.0</td>\n",
              "      <td>0</td>\n",
              "      <td>0.0</td>\n",
              "      <td>0</td>\n",
              "      <td>0.0</td>\n",
              "      <td>0.0</td>\n",
              "      <td>0</td>\n",
              "      <td>0.0</td>\n",
              "      <td>0</td>\n",
              "    </tr>\n",
              "    <tr>\n",
              "      <th>3</th>\n",
              "      <td>31982D0211</td>\n",
              "      <td>[1091, 3842, 3874, 4110, 4381, 5287]</td>\n",
              "      <td>82/211/EEC: Commission Decision of 17 March 19...</td>\n",
              "      <td>82/211/EEC: Commission Decision of 17 March 19...</td>\n",
              "      <td>0</td>\n",
              "      <td>0.0</td>\n",
              "      <td>0</td>\n",
              "      <td>0</td>\n",
              "      <td>0</td>\n",
              "      <td>1</td>\n",
              "      <td>...</td>\n",
              "      <td>0</td>\n",
              "      <td>0.0</td>\n",
              "      <td>0</td>\n",
              "      <td>0.0</td>\n",
              "      <td>0</td>\n",
              "      <td>0.0</td>\n",
              "      <td>0.0</td>\n",
              "      <td>0</td>\n",
              "      <td>0.0</td>\n",
              "      <td>0</td>\n",
              "    </tr>\n",
              "    <tr>\n",
              "      <th>4</th>\n",
              "      <td>31996D0084</td>\n",
              "      <td>[1026, 1048, 2300, 3653, 4271, 4390]</td>\n",
              "      <td>96/84/Euratom, ECSC, EC: Commission Decision o...</td>\n",
              "      <td>96/84/Euratom, ECSC, EC: Commission Decision o...</td>\n",
              "      <td>0</td>\n",
              "      <td>0.0</td>\n",
              "      <td>0</td>\n",
              "      <td>0</td>\n",
              "      <td>0</td>\n",
              "      <td>0</td>\n",
              "      <td>...</td>\n",
              "      <td>0</td>\n",
              "      <td>0.0</td>\n",
              "      <td>0</td>\n",
              "      <td>0.0</td>\n",
              "      <td>0</td>\n",
              "      <td>0.0</td>\n",
              "      <td>0.0</td>\n",
              "      <td>0</td>\n",
              "      <td>0.0</td>\n",
              "      <td>0</td>\n",
              "    </tr>\n",
              "  </tbody>\n",
              "</table>\n",
              "<p>5 rows × 4275 columns</p>\n",
              "</div>"
            ],
            "text/plain": [
              "     celex_id                           eurovoc_concepts  \\\n",
              "0  32014R0727  [1402, 2771, 3191, 5055, 519, 5969, 5971]   \n",
              "1  31975R2481                    [2319, 2713, 2938, 693]   \n",
              "2  32010D0008        [3560, 365, 4256, 4261, 4353, 4585]   \n",
              "3  31982D0211       [1091, 3842, 3874, 4110, 4381, 5287]   \n",
              "4  31996D0084       [1026, 1048, 2300, 3653, 4271, 4390]   \n",
              "\n",
              "                                                text  \\\n",
              "0  Commission Implementing Regulation (EU) No 727...   \n",
              "1  Regulation (EEC) No 2481/75 of the Council of ...   \n",
              "2  2010/8/EU, Euratom: Commission Decision of 22 ...   \n",
              "3  82/211/EEC: Commission Decision of 17 March 19...   \n",
              "4  96/84/Euratom, ECSC, EC: Commission Decision o...   \n",
              "\n",
              "                                               title  0    2  3  5  6  11  \\\n",
              "0  Commission Implementing Regulation (EU) No 727...  0  0.0  0  0  0   0   \n",
              "1  Regulation (EEC) No 2481/75 of the Council of ...  0  0.0  0  0  0   0   \n",
              "2  2010/8/EU, Euratom: Commission Decision of 22 ...  0  0.0  0  0  0   0   \n",
              "3  82/211/EEC: Commission Decision of 17 March 19...  0  0.0  0  0  0   1   \n",
              "4  96/84/Euratom, ECSC, EC: Commission Decision o...  0  0.0  0  0  0   0   \n",
              "\n",
              "   ...  7182  7185  7186  7188  7190  7191  7192  7194  7196  7200  \n",
              "0  ...     0   0.0     0   0.0     0   0.0   0.0     0   0.0     0  \n",
              "1  ...     0   0.0     0   0.0     0   0.0   0.0     0   0.0     0  \n",
              "2  ...     0   0.0     0   0.0     0   0.0   0.0     0   0.0     0  \n",
              "3  ...     0   0.0     0   0.0     0   0.0   0.0     0   0.0     0  \n",
              "4  ...     0   0.0     0   0.0     0   0.0   0.0     0   0.0     0  \n",
              "\n",
              "[5 rows x 4275 columns]"
            ]
          },
          "execution_count": 96,
          "metadata": {},
          "output_type": "execute_result"
        }
      ],
      "source": [
        "train.head()"
      ]
    },
    {
      "cell_type": "code",
      "execution_count": 97,
      "metadata": {
        "cellId": "9316hqe97xs6seiso38v",
        "id": "PA9lgkb0QaIa"
      },
      "outputs": [],
      "source": [
        "# def inspect_category_wise_data(label, n=5):\n",
        "#     samples = train[train[label] == 1].sample(n)\n",
        "#     sentiment = mapping[label]\n",
        "    \n",
        "#     print(f\"{n} samples from {sentiment} sentiment: \\n\")\n",
        "#     for text in samples[\"text\"]:\n",
        "#         print(text, end='\\n\\n')"
      ]
    },
    {
      "cell_type": "code",
      "execution_count": 98,
      "metadata": {
        "cellId": "ync7dj68y6k4bgvxw05y",
        "id": "ckGFUT8ZQaIb"
      },
      "outputs": [],
      "source": [
        "#!g1.1\n",
        "class Dataset:\n",
        "    def __init__(self, texts, labels, tokenizer, max_len):\n",
        "        self.texts = texts\n",
        "        self.labels = labels\n",
        "\n",
        "        self.tokenizer = tokenizer\n",
        "        self.max_len = max_len\n",
        "    \n",
        "    def __len__(self):\n",
        "        return len(self.texts)\n",
        "\n",
        "    def __getitem__(self, index):\n",
        "        text = self.texts[index]\n",
        "        label = self.labels[index]\n",
        "\n",
        "        inputs = self.tokenizer.__call__(text,\n",
        "                                        None,\n",
        "                                        add_special_tokens=True,\n",
        "                                        max_length=self.max_len,\n",
        "                                        padding=\"max_length\",\n",
        "                                        truncation=True,\n",
        "                                        )\n",
        "        ids = inputs[\"input_ids\"]\n",
        "        mask = inputs[\"attention_mask\"]\n",
        "\n",
        "        return {\n",
        "            \"ids\": torch.tensor(ids, dtype=torch.long),\n",
        "            \"mask\": torch.tensor(mask, dtype=torch.long),\n",
        "            \"labels\": torch.tensor(label, dtype=torch.long)\n",
        "        }"
      ]
    },
    {
      "cell_type": "code",
      "execution_count": 108,
      "metadata": {
        "cellId": "8030kmgtrkb5v0o82u2u1u",
        "id": "Zxn69QX-QaIb"
      },
      "outputs": [],
      "source": [
        "#!g1.1\n",
        "class Classifier(nn.Module):\n",
        "    def __init__(self, n_train_steps, n_classes, do_prob, bert_model):\n",
        "        super(Classifier, self).__init__()\n",
        "        self.bert = bert_model\n",
        "        self.dropout = nn.Dropout(do_prob)\n",
        "        self.out = nn.Linear(768, n_classes)\n",
        "        self.n_train_steps = n_train_steps\n",
        "        self.step_scheduler_after = \"batch\"\n",
        "\n",
        "    def forward(self, ids, mask):\n",
        "        output_1 = self.bert(ids, attention_mask=mask)[\"pooler_output\"]\n",
        "        output_2 = self.dropout(output_1)\n",
        "        output = self.out(output_2)\n",
        "        return output"
      ]
    },
    {
      "cell_type": "code",
      "execution_count": 105,
      "metadata": {
        "cellId": "l6nolqy4c0dkta0edcn72",
        "id": "o43mZ0TMQaIc"
      },
      "outputs": [],
      "source": [
        "#!g1.1\n",
        "tokenizer = transformers.SqueezeBertTokenizer.from_pretrained(\"squeezebert/squeezebert-uncased\", do_lower_case=True)\n",
        "\n",
        "def build_dataset(tokenizer_max_len):\n",
        "    train_dataset = Dataset(train.text.tolist(), train[train.columns[4:]].values.tolist(), tokenizer, tokenizer_max_len)\n",
        "    valid_dataset = Dataset(valid.text.tolist(), valid[train.columns[4:]].values.tolist(), tokenizer, tokenizer_max_len)\n",
        "    test_dataset = Dataset(test.text.tolist(), test[train.columns[4:]].values.tolist(), tokenizer, tokenizer_max_len)\n",
        "    \n",
        "    return train_dataset, valid_dataset, test_dataset\n",
        "\n",
        "def build_dataloader(train_dataset, valid_dataset, batch_size):\n",
        "    train_data_loader = DataLoader(train_dataset, batch_size=batch_size, shuffle=True, num_workers=2)\n",
        "    valid_data_loader = DataLoader(valid_dataset, batch_size=batch_size, shuffle=True, num_workers=1)\n",
        "\n",
        "    return train_data_loader, valid_data_loader\n",
        "\n",
        "def ret_model(n_train_steps, do_prob):\n",
        "    model = Classifier(n_train_steps, n_labels, do_prob, bert_model=bert_model)\n",
        "    return model"
      ]
    },
    {
      "cell_type": "code",
      "execution_count": 101,
      "metadata": {
        "cellId": "zhguvxm7vybem1mespy924",
        "id": "FCTOFfNpQaId"
      },
      "outputs": [
        {
          "data": {
            "application/vnd.jupyter.widget-view+json": {
              "model_id": "69f291460dd143eeb57a1f9332cfe0c4",
              "version_major": 2,
              "version_minor": 0
            },
            "text/plain": [
              "HBox(children=(FloatProgress(value=0.0, description='Downloading', max=103473649.0, style=ProgressStyle(descri…"
            ]
          },
          "metadata": {},
          "output_type": "display_data"
        },
        {
          "name": "stdout",
          "output_type": "stream",
          "text": [
            "\n"
          ]
        },
        {
          "name": "stderr",
          "output_type": "stream",
          "text": [
            "Some weights of the model checkpoint at squeezebert/squeezebert-uncased were not used when initializing SqueezeBertModel: ['cls.predictions.transform.LayerNorm.bias', 'cls.predictions.transform.LayerNorm.weight', 'cls.predictions.decoder.weight', 'cls.seq_relationship.weight', 'cls.predictions.bias', 'cls.predictions.transform.dense.weight', 'cls.seq_relationship.bias', 'cls.predictions.transform.dense.bias']\n",
            "- This IS expected if you are initializing SqueezeBertModel from the checkpoint of a model trained on another task or with another architecture (e.g. initializing a BertForSequenceClassification model from a BertForPreTraining model).\n",
            "- This IS NOT expected if you are initializing SqueezeBertModel from the checkpoint of a model that you expect to be exactly identical (initializing a BertForSequenceClassification model from a BertForSequenceClassification model).\n",
            "/kernel/lib/python3.8/site-packages/ml_kernel/ignored_keyboard_interrupt.py:16: UserWarning: Kernel cannot be interrupted during state load\n",
            "  warnings.warn(self._warn_message)\n"
          ]
        }
      ],
      "source": [
        "#!g1.1\n",
        "bert_model = transformers.SqueezeBertModel.from_pretrained(\"squeezebert/squeezebert-uncased\")\n"
      ]
    },
    {
      "cell_type": "code",
      "execution_count": 102,
      "metadata": {
        "cellId": "jr011fxjqyhqex7ojbiu",
        "id": "_LZ_6Q8uQaId"
      },
      "outputs": [],
      "source": [
        "#!g1.1\n",
        "def loss_fn(outputs, labels):\n",
        "    if labels is None:\n",
        "        return None\n",
        "    return nn.BCEWithLogitsLoss()(outputs, labels.float())\n",
        "\n",
        "def log_metrics(preds, labels):\n",
        "    preds = torch.stack(preds)\n",
        "    preds = preds.cpu().detach().numpy()\n",
        "    labels = torch.stack(labels)\n",
        "    labels = labels.cpu().detach().numpy()\n",
        "    \n",
        "    '''\n",
        "    auc_micro_list = []\n",
        "    for i in range(n_labels):\n",
        "      current_pred = preds.T[i]\n",
        "      current_label = labels.T[i]\n",
        "      fpr_micro, tpr_micro, _ = metrics.roc_curve(current_label.T, current_pred.T)\n",
        "      auc_micro = metrics.auc(fpr_micro, tpr_micro)\n",
        "      auc_micro_list.append(auc_micro)\n",
        "    \n",
        "    return {\"auc\": np.array(auc_micro).mean()}\n",
        "    '''\n",
        "\n",
        "    fpr_micro, tpr_micro, _ = metrics.roc_curve(labels.ravel(), preds.ravel())\n",
        "    \n",
        "    auc_micro = metrics.auc(fpr_micro, tpr_micro)\n",
        "    return {\"auc_micro\": auc_micro}"
      ]
    },
    {
      "cell_type": "code",
      "execution_count": 103,
      "metadata": {
        "cellId": "foiyjst1dy9o2idcywnmxn",
        "id": "AyEyE6gLQaIe"
      },
      "outputs": [],
      "source": [
        "#!g1.1\n",
        "def train_fn(data_loader, model, optimizer, device, scheduler):\n",
        "    '''\n",
        "        Modified from Abhishek Thakur's BERT example: \n",
        "        https://github.com/abhishekkrthakur/bert-sentiment/blob/master/src/engine.py\n",
        "    '''\n",
        "\n",
        "    train_loss = 0.0\n",
        "    model.train()\n",
        "    for bi, d in tqdm(enumerate(data_loader), total=len(data_loader)):\n",
        "        ids = d[\"ids\"]\n",
        "        mask = d[\"mask\"]\n",
        "        targets = d[\"labels\"]\n",
        "\n",
        "        ids = ids.to(device, dtype=torch.long)\n",
        "        mask = mask.to(device, dtype=torch.long)\n",
        "        targets = targets.to(device, dtype=torch.float)\n",
        "\n",
        "        optimizer.zero_grad()\n",
        "        outputs = model(ids=ids, mask=mask)\n",
        "\n",
        "        loss = loss_fn(outputs, targets)\n",
        "        loss.backward()\n",
        "        train_loss += loss.item()\n",
        "        optimizer.step()\n",
        "        scheduler.step()\n",
        "    return train_loss\n",
        "    \n",
        "\n",
        "def eval_fn(data_loader, model, device):\n",
        "    '''\n",
        "        Modified from Abhishek Thakur's BERT example: \n",
        "        https://github.com/abhishekkrthakur/bert-sentiment/blob/master/src/engine.py\n",
        "    '''\n",
        "    eval_loss = 0.0\n",
        "    model.eval()\n",
        "    fin_targets = []\n",
        "    fin_outputs = []\n",
        "    with torch.no_grad():\n",
        "        for bi, d in tqdm(enumerate(data_loader), total=len(data_loader)):\n",
        "            ids = d[\"ids\"]\n",
        "            mask = d[\"mask\"]\n",
        "            targets = d[\"labels\"]\n",
        "\n",
        "            ids = ids.to(device, dtype=torch.long)\n",
        "            mask = mask.to(device, dtype=torch.long)\n",
        "            targets = targets.to(device, dtype=torch.float)\n",
        "\n",
        "            outputs = model(ids=ids, mask=mask)\n",
        "            loss = loss_fn(outputs, targets)\n",
        "            eval_loss += loss.item()\n",
        "            fin_targets.extend(targets)\n",
        "            fin_outputs.extend(torch.sigmoid(outputs))\n",
        "    return eval_loss, fin_outputs, fin_targets"
      ]
    },
    {
      "cell_type": "code",
      "execution_count": 109,
      "metadata": {
        "cellId": "z0m4jeglyh9cgc1o4matvn"
      },
      "outputs": [
        {
          "data": {
            "application/vnd.jupyter.widget-view+json": {
              "model_id": "14922234cd1e4e99a1db12623820fdc1",
              "version_major": 2,
              "version_minor": 0
            },
            "text/plain": [
              "HBox(children=(FloatProgress(value=0.0, max=10.0), HTML(value='')))"
            ]
          },
          "metadata": {},
          "output_type": "display_data"
        },
        {
          "data": {
            "application/vnd.jupyter.widget-view+json": {
              "model_id": "c9b8175d1cce43bb95ff46844173e8f6",
              "version_major": 2,
              "version_minor": 0
            },
            "text/plain": [
              "HBox(children=(FloatProgress(value=0.0, max=1407.0), HTML(value='')))"
            ]
          },
          "metadata": {},
          "output_type": "display_data"
        },
        {
          "data": {
            "application/vnd.jupyter.widget-view+json": {
              "model_id": "b204b245bf654565959c1ec255af7e5b",
              "version_major": 2,
              "version_minor": 0
            },
            "text/plain": [
              "HBox(children=(FloatProgress(value=0.0, max=188.0), HTML(value='')))"
            ]
          },
          "metadata": {},
          "output_type": "display_data"
        },
        {
          "data": {
            "application/vnd.jupyter.widget-view+json": {
              "model_id": "b2adf2c62e23460f8842348e32137be6",
              "version_major": 2,
              "version_minor": 0
            },
            "text/plain": [
              "HBox(children=(FloatProgress(value=0.0, max=1407.0), HTML(value='')))"
            ]
          },
          "metadata": {},
          "output_type": "display_data"
        },
        {
          "data": {
            "application/vnd.jupyter.widget-view+json": {
              "model_id": "b18a02a0e8a34811a2972e45aa58c564",
              "version_major": 2,
              "version_minor": 0
            },
            "text/plain": [
              "HBox(children=(FloatProgress(value=0.0, max=188.0), HTML(value='')))"
            ]
          },
          "metadata": {},
          "output_type": "display_data"
        },
        {
          "data": {
            "application/vnd.jupyter.widget-view+json": {
              "model_id": "8e4247bab86c440abb023033d6d146b1",
              "version_major": 2,
              "version_minor": 0
            },
            "text/plain": [
              "HBox(children=(FloatProgress(value=0.0, max=1407.0), HTML(value='')))"
            ]
          },
          "metadata": {},
          "output_type": "display_data"
        },
        {
          "data": {
            "application/vnd.jupyter.widget-view+json": {
              "model_id": "91b2786eb1cf41649507c477a2bd20b7",
              "version_major": 2,
              "version_minor": 0
            },
            "text/plain": [
              "HBox(children=(FloatProgress(value=0.0, max=188.0), HTML(value='')))"
            ]
          },
          "metadata": {},
          "output_type": "display_data"
        },
        {
          "data": {
            "application/vnd.jupyter.widget-view+json": {
              "model_id": "f488bd442b924bd7b8be7d41589140e7",
              "version_major": 2,
              "version_minor": 0
            },
            "text/plain": [
              "HBox(children=(FloatProgress(value=0.0, max=1407.0), HTML(value='')))"
            ]
          },
          "metadata": {},
          "output_type": "display_data"
        },
        {
          "data": {
            "application/vnd.jupyter.widget-view+json": {
              "model_id": "0c31fbbbe8a0490c88809b8e28038887",
              "version_major": 2,
              "version_minor": 0
            },
            "text/plain": [
              "HBox(children=(FloatProgress(value=0.0, max=188.0), HTML(value='')))"
            ]
          },
          "metadata": {},
          "output_type": "display_data"
        },
        {
          "data": {
            "application/vnd.jupyter.widget-view+json": {
              "model_id": "387f46248d1d47ba962624b5a1abfe91",
              "version_major": 2,
              "version_minor": 0
            },
            "text/plain": [
              "HBox(children=(FloatProgress(value=0.0, max=1407.0), HTML(value='')))"
            ]
          },
          "metadata": {},
          "output_type": "display_data"
        },
        {
          "data": {
            "application/vnd.jupyter.widget-view+json": {
              "model_id": "9c25971e728c4c09aaa191c9b9ef1bf1",
              "version_major": 2,
              "version_minor": 0
            },
            "text/plain": [
              "HBox(children=(FloatProgress(value=0.0, max=188.0), HTML(value='')))"
            ]
          },
          "metadata": {},
          "output_type": "display_data"
        },
        {
          "data": {
            "application/vnd.jupyter.widget-view+json": {
              "model_id": "a252ad369386459f81031c6287b76680",
              "version_major": 2,
              "version_minor": 0
            },
            "text/plain": [
              "HBox(children=(FloatProgress(value=0.0, max=1407.0), HTML(value='')))"
            ]
          },
          "metadata": {},
          "output_type": "display_data"
        },
        {
          "data": {
            "application/vnd.jupyter.widget-view+json": {
              "model_id": "2b2cb4d2966f4f14a0d0624a408716c4",
              "version_major": 2,
              "version_minor": 0
            },
            "text/plain": [
              "HBox(children=(FloatProgress(value=0.0, max=188.0), HTML(value='')))"
            ]
          },
          "metadata": {},
          "output_type": "display_data"
        },
        {
          "data": {
            "application/vnd.jupyter.widget-view+json": {
              "model_id": "6e85b1d862714b618d63a01420500795",
              "version_major": 2,
              "version_minor": 0
            },
            "text/plain": [
              "HBox(children=(FloatProgress(value=0.0, max=1407.0), HTML(value='')))"
            ]
          },
          "metadata": {},
          "output_type": "display_data"
        },
        {
          "data": {
            "application/vnd.jupyter.widget-view+json": {
              "model_id": "c1a4665125f144caa538c901cb21d9b9",
              "version_major": 2,
              "version_minor": 0
            },
            "text/plain": [
              "HBox(children=(FloatProgress(value=0.0, max=188.0), HTML(value='')))"
            ]
          },
          "metadata": {},
          "output_type": "display_data"
        },
        {
          "data": {
            "application/vnd.jupyter.widget-view+json": {
              "model_id": "3b45b262585f4e78bf995ee93c4a0f48",
              "version_major": 2,
              "version_minor": 0
            },
            "text/plain": [
              "HBox(children=(FloatProgress(value=0.0, max=1407.0), HTML(value='')))"
            ]
          },
          "metadata": {},
          "output_type": "display_data"
        },
        {
          "data": {
            "application/vnd.jupyter.widget-view+json": {
              "model_id": "9ce2c9b71a2249e3b9fa82d0dd5fd535",
              "version_major": 2,
              "version_minor": 0
            },
            "text/plain": [
              "HBox(children=(FloatProgress(value=0.0, max=188.0), HTML(value='')))"
            ]
          },
          "metadata": {},
          "output_type": "display_data"
        },
        {
          "data": {
            "application/vnd.jupyter.widget-view+json": {
              "model_id": "e71173e924d8450b820dec95a4398061",
              "version_major": 2,
              "version_minor": 0
            },
            "text/plain": [
              "HBox(children=(FloatProgress(value=0.0, max=1407.0), HTML(value='')))"
            ]
          },
          "metadata": {},
          "output_type": "display_data"
        },
        {
          "data": {
            "application/vnd.jupyter.widget-view+json": {
              "model_id": "b29d617a5aa74dea8c61a6148a00b91d",
              "version_major": 2,
              "version_minor": 0
            },
            "text/plain": [
              "HBox(children=(FloatProgress(value=0.0, max=188.0), HTML(value='')))"
            ]
          },
          "metadata": {},
          "output_type": "display_data"
        },
        {
          "data": {
            "application/vnd.jupyter.widget-view+json": {
              "model_id": "f6fffa8b1be74b9ca3eb23aaf36ea856",
              "version_major": 2,
              "version_minor": 0
            },
            "text/plain": [
              "HBox(children=(FloatProgress(value=0.0, max=1407.0), HTML(value='')))"
            ]
          },
          "metadata": {},
          "output_type": "display_data"
        },
        {
          "data": {
            "application/vnd.jupyter.widget-view+json": {
              "model_id": "24b6bd3276854d4cbab0f23098f41ce6",
              "version_major": 2,
              "version_minor": 0
            },
            "text/plain": [
              "HBox(children=(FloatProgress(value=0.0, max=188.0), HTML(value='')))"
            ]
          },
          "metadata": {},
          "output_type": "display_data"
        },
        {
          "name": "stderr",
          "output_type": "stream",
          "text": [
            "<ipython-input-1-e17bb7b67af7>:29: DeprecationWarning: an integer is required (got type float).  Implicit conversion to integers using __int__ is deprecated, and may be removed in a future version of Python.\n",
            "  \"labels\": torch.tensor(label, dtype=torch.long)\n",
            "<ipython-input-1-e17bb7b67af7>:29: DeprecationWarning: an integer is required (got type float).  Implicit conversion to integers using __int__ is deprecated, and may be removed in a future version of Python.\n",
            "  \"labels\": torch.tensor(label, dtype=torch.long)\n",
            "<ipython-input-1-e17bb7b67af7>:29: DeprecationWarning: an integer is required (got type float).  Implicit conversion to integers using __int__ is deprecated, and may be removed in a future version of Python.\n",
            "  \"labels\": torch.tensor(label, dtype=torch.long)\n",
            "<ipython-input-1-e17bb7b67af7>:29: DeprecationWarning: an integer is required (got type float).  Implicit conversion to integers using __int__ is deprecated, and may be removed in a future version of Python.\n",
            "  \"labels\": torch.tensor(label, dtype=torch.long)\n",
            "<ipython-input-1-e17bb7b67af7>:29: DeprecationWarning: an integer is required (got type float).  Implicit conversion to integers using __int__ is deprecated, and may be removed in a future version of Python.\n",
            "  \"labels\": torch.tensor(label, dtype=torch.long)\n",
            "<ipython-input-1-e17bb7b67af7>:29: DeprecationWarning: an integer is required (got type float).  Implicit conversion to integers using __int__ is deprecated, and may be removed in a future version of Python.\n",
            "  \"labels\": torch.tensor(label, dtype=torch.long)\n",
            "<ipython-input-1-e17bb7b67af7>:29: DeprecationWarning: an integer is required (got type float).  Implicit conversion to integers using __int__ is deprecated, and may be removed in a future version of Python.\n",
            "  \"labels\": torch.tensor(label, dtype=torch.long)\n",
            "<ipython-input-1-e17bb7b67af7>:29: DeprecationWarning: an integer is required (got type float).  Implicit conversion to integers using __int__ is deprecated, and may be removed in a future version of Python.\n",
            "  \"labels\": torch.tensor(label, dtype=torch.long)\n",
            "<ipython-input-1-e17bb7b67af7>:29: DeprecationWarning: an integer is required (got type float).  Implicit conversion to integers using __int__ is deprecated, and may be removed in a future version of Python.\n",
            "  \"labels\": torch.tensor(label, dtype=torch.long)\n",
            "<ipython-input-1-e17bb7b67af7>:29: DeprecationWarning: an integer is required (got type float).  Implicit conversion to integers using __int__ is deprecated, and may be removed in a future version of Python.\n",
            "  \"labels\": torch.tensor(label, dtype=torch.long)\n",
            "<ipython-input-1-e17bb7b67af7>:29: DeprecationWarning: an integer is required (got type float).  Implicit conversion to integers using __int__ is deprecated, and may be removed in a future version of Python.\n",
            "  \"labels\": torch.tensor(label, dtype=torch.long)\n",
            "<ipython-input-1-e17bb7b67af7>:29: DeprecationWarning: an integer is required (got type float).  Implicit conversion to integers using __int__ is deprecated, and may be removed in a future version of Python.\n",
            "  \"labels\": torch.tensor(label, dtype=torch.long)\n",
            "<ipython-input-1-e17bb7b67af7>:29: DeprecationWarning: an integer is required (got type float).  Implicit conversion to integers using __int__ is deprecated, and may be removed in a future version of Python.\n",
            "  \"labels\": torch.tensor(label, dtype=torch.long)\n",
            "<ipython-input-1-e17bb7b67af7>:29: DeprecationWarning: an integer is required (got type float).  Implicit conversion to integers using __int__ is deprecated, and may be removed in a future version of Python.\n",
            "  \"labels\": torch.tensor(label, dtype=torch.long)\n",
            "<ipython-input-1-e17bb7b67af7>:29: DeprecationWarning: an integer is required (got type float).  Implicit conversion to integers using __int__ is deprecated, and may be removed in a future version of Python.\n",
            "  \"labels\": torch.tensor(label, dtype=torch.long)\n",
            "<ipython-input-1-e17bb7b67af7>:29: DeprecationWarning: an integer is required (got type float).  Implicit conversion to integers using __int__ is deprecated, and may be removed in a future version of Python.\n",
            "  \"labels\": torch.tensor(label, dtype=torch.long)\n",
            "<ipython-input-1-e17bb7b67af7>:29: DeprecationWarning: an integer is required (got type float).  Implicit conversion to integers using __int__ is deprecated, and may be removed in a future version of Python.\n",
            "  \"labels\": torch.tensor(label, dtype=torch.long)\n",
            "<ipython-input-1-e17bb7b67af7>:29: DeprecationWarning: an integer is required (got type float).  Implicit conversion to integers using __int__ is deprecated, and may be removed in a future version of Python.\n",
            "  \"labels\": torch.tensor(label, dtype=torch.long)\n",
            "<ipython-input-1-e17bb7b67af7>:29: DeprecationWarning: an integer is required (got type float).  Implicit conversion to integers using __int__ is deprecated, and may be removed in a future version of Python.\n",
            "  \"labels\": torch.tensor(label, dtype=torch.long)\n",
            "<ipython-input-1-e17bb7b67af7>:29: DeprecationWarning: an integer is required (got type float).  Implicit conversion to integers using __int__ is deprecated, and may be removed in a future version of Python.\n",
            "  \"labels\": torch.tensor(label, dtype=torch.long)\n",
            "<ipython-input-1-e17bb7b67af7>:29: DeprecationWarning: an integer is required (got type float).  Implicit conversion to integers using __int__ is deprecated, and may be removed in a future version of Python.\n",
            "  \"labels\": torch.tensor(label, dtype=torch.long)\n",
            "<ipython-input-1-e17bb7b67af7>:29: DeprecationWarning: an integer is required (got type float).  Implicit conversion to integers using __int__ is deprecated, and may be removed in a future version of Python.\n",
            "  \"labels\": torch.tensor(label, dtype=torch.long)\n",
            "<ipython-input-1-e17bb7b67af7>:29: DeprecationWarning: an integer is required (got type float).  Implicit conversion to integers using __int__ is deprecated, and may be removed in a future version of Python.\n",
            "  \"labels\": torch.tensor(label, dtype=torch.long)\n",
            "<ipython-input-1-e17bb7b67af7>:29: DeprecationWarning: an integer is required (got type float).  Implicit conversion to integers using __int__ is deprecated, and may be removed in a future version of Python.\n",
            "  \"labels\": torch.tensor(label, dtype=torch.long)\n",
            "<ipython-input-1-e17bb7b67af7>:29: DeprecationWarning: an integer is required (got type float).  Implicit conversion to integers using __int__ is deprecated, and may be removed in a future version of Python.\n",
            "  \"labels\": torch.tensor(label, dtype=torch.long)\n",
            "<ipython-input-1-e17bb7b67af7>:29: DeprecationWarning: an integer is required (got type float).  Implicit conversion to integers using __int__ is deprecated, and may be removed in a future version of Python.\n",
            "  \"labels\": torch.tensor(label, dtype=torch.long)\n",
            "<ipython-input-1-e17bb7b67af7>:29: DeprecationWarning: an integer is required (got type float).  Implicit conversion to integers using __int__ is deprecated, and may be removed in a future version of Python.\n",
            "  \"labels\": torch.tensor(label, dtype=torch.long)\n",
            "<ipython-input-1-e17bb7b67af7>:29: DeprecationWarning: an integer is required (got type float).  Implicit conversion to integers using __int__ is deprecated, and may be removed in a future version of Python.\n",
            "  \"labels\": torch.tensor(label, dtype=torch.long)\n",
            "<ipython-input-1-e17bb7b67af7>:29: DeprecationWarning: an integer is required (got type float).  Implicit conversion to integers using __int__ is deprecated, and may be removed in a future version of Python.\n",
            "  \"labels\": torch.tensor(label, dtype=torch.long)\n",
            "<ipython-input-1-e17bb7b67af7>:29: DeprecationWarning: an integer is required (got type float).  Implicit conversion to integers using __int__ is deprecated, and may be removed in a future version of Python.\n",
            "  \"labels\": torch.tensor(label, dtype=torch.long)\n"
          ]
        },
        {
          "name": "stdout",
          "output_type": "stream",
          "text": [
            "Length of Train Dataloader:  1407\n",
            "Length of Valid Dataloader:  188\n",
            "\n",
            "\n",
            "AUC score:  0.8976910176256891\n",
            "Average Train loss:  0.009143233316134352\n",
            "Average Valid loss:  0.007353893993917773\n",
            "Model saved as current val_loss is:  0.007353893993917773\n",
            "\n",
            "\n",
            "AUC score:  0.8975165802478345\n",
            "Average Train loss:  0.007440268303656205\n",
            "Average Valid loss:  0.007362741464253595\n",
            "\n",
            "\n",
            "AUC score:  0.9082086648947896\n",
            "Average Train loss:  0.007362262574213146\n",
            "Average Valid loss:  0.007237187594155523\n",
            "Model saved as current val_loss is:  0.007237187594155523\n",
            "\n",
            "\n",
            "AUC score:  0.910643427621018\n",
            "Average Train loss:  0.007315286357080208\n",
            "Average Valid loss:  0.00720484910948955\n",
            "Model saved as current val_loss is:  0.00720484910948955\n",
            "\n",
            "\n",
            "AUC score:  0.9120061300871479\n",
            "Average Train loss:  0.007282131585850517\n",
            "Average Valid loss:  0.0071891529158629635\n",
            "Model saved as current val_loss is:  0.0071891529158629635\n",
            "\n",
            "\n",
            "AUC score:  0.9137353278192017\n",
            "Average Train loss:  0.007253700343053986\n",
            "Average Valid loss:  0.007150948334960861\n",
            "Model saved as current val_loss is:  0.007150948334960861\n",
            "\n",
            "\n",
            "AUC score:  0.9148262186811191\n",
            "Average Train loss:  0.0072281676226751594\n",
            "Average Valid loss:  0.007129435434917662\n",
            "Model saved as current val_loss is:  0.007129435434917662\n",
            "\n",
            "\n",
            "AUC score:  0.9155976545685743\n",
            "Average Train loss:  0.0072020487092017025\n",
            "Average Valid loss:  0.007112655573167858\n",
            "Model saved as current val_loss is:  0.007112655573167858\n",
            "\n",
            "\n",
            "AUC score:  0.9162768786353883\n",
            "Average Train loss:  0.007177863435193568\n",
            "Average Valid loss:  0.007100246351291525\n",
            "Model saved as current val_loss is:  0.007100246351291525\n",
            "\n",
            "\n",
            "AUC score:  0.9169888391373968\n",
            "Average Train loss:  0.007155686899868728\n",
            "Average Valid loss:  0.007081031415393536\n",
            "Model saved as current val_loss is:  0.007081031415393536\n",
            "\n"
          ]
        }
      ],
      "source": [
        "#!g1.1\n",
        "\n",
        "train_dataset, valid_dataset, test_dataset = build_dataset(40)\n",
        "train_data_loader, valid_data_loader = build_dataloader(train_dataset, valid_dataset, 32)\n",
        "print(\"Length of Train Dataloader: \", len(train_data_loader))\n",
        "print(\"Length of Valid Dataloader: \", len(valid_data_loader))\n",
        "\n",
        "device = torch.device('cuda' if torch.cuda.is_available() else 'cpu')\n",
        "\n",
        "n_train_steps = int(len(train_dataset) / 32 * 10)\n",
        "\n",
        "model = ret_model(n_train_steps, 0.3)\n",
        "param_optimizer = list(model.named_parameters())\n",
        "no_decay = [\"bias\", \"LayerNorm.bias\"]\n",
        "optimizer_parameters = [\n",
        "    {\n",
        "        \"params\": [\n",
        "            p for n, p in param_optimizer if not any(nd in n for nd in no_decay)\n",
        "        ],\n",
        "        \"weight_decay\": 0.001,\n",
        "    },\n",
        "    {\n",
        "        \"params\": [\n",
        "            p for n, p in param_optimizer if any(nd in n for nd in no_decay)\n",
        "        ],\n",
        "        \"weight_decay\": 0.0,\n",
        "    },\n",
        "]\n",
        "optimizer = AdamW(optimizer_parameters, lr=0.01)\n",
        "scheduler = get_linear_schedule_with_warmup(\n",
        "        optimizer, num_warmup_steps=0, num_training_steps=n_train_steps)\n",
        "model.to(device)\n",
        "model = nn.DataParallel(model)\n",
        "# wandb.watch(model)\n",
        " \n",
        "n_epochs = 10\n",
        "\n",
        "best_val_loss = 100\n",
        "for epoch in tqdm(range(n_epochs)):\n",
        "    train_loss = train_fn(train_data_loader, model, optimizer, device, scheduler)\n",
        "    eval_loss, preds, labels = eval_fn(valid_data_loader, model, device)\n",
        "\n",
        "    auc_score = log_metrics(preds, labels)[\"auc_micro\"]\n",
        "    print(\"AUC score: \", auc_score)\n",
        "    avg_train_loss, avg_val_loss = train_loss / len(train_data_loader), eval_loss / len(valid_data_loader)\n",
        "\n",
        "    print(\"Average Train loss: \", avg_train_loss)\n",
        "    print(\"Average Valid loss: \", avg_val_loss)\n",
        "\n",
        "    if avg_val_loss < best_val_loss:\n",
        "        best_val_loss = avg_val_loss\n",
        "        torch.save(model.state_dict(), \"./best_model.pt\")  \n",
        "        print(\"Model saved as current val_loss is: \", best_val_loss) "
      ]
    },
    {
      "cell_type": "code",
      "execution_count": null,
      "metadata": {
        "cellId": "6yk14iuvxweo6ta5uu36o"
      },
      "outputs": [],
      "source": [
        "#!g1.1\n",
        "model"
      ]
    },
    {
      "cell_type": "code",
      "execution_count": null,
      "metadata": {
        "cellId": "0qqo0s279rmgx8ihwkgn2wk"
      },
      "outputs": [],
      "source": [
        "#!g1.1\n",
        "print('test')"
      ]
    },
    {
      "cell_type": "code",
      "execution_count": null,
      "metadata": {
        "cellId": "kr0d0d9h9bs2k64yv22dwd"
      },
      "outputs": [],
      "source": [
        "#!g1.1\n",
        "_, test_data_loader = build_dataloader(train_dataset, test_dataset, 32)\n",
        "eval_loss, preds, labels = eval_fn(test_data_loader, model, device)"
      ]
    },
    {
      "cell_type": "code",
      "execution_count": null,
      "metadata": {
        "cellId": "5pilbg7wjtx7cw7l1jcsq"
      },
      "outputs": [],
      "source": [
        "#!g1.1\n"
      ]
    }
  ],
  "metadata": {
    "accelerator": "GPU",
    "colab": {
      "collapsed_sections": [],
      "name": "Copy_of_Multi_label_Emotion_Classification_+_W&B.ipynb",
      "provenance": []
    },
    "interpreter": {
      "hash": "916dbcbb3f70747c44a77c7bcd40155683ae19c65e1c03b4aa3499c5328201f1"
    },
    "kernelspec": {
      "description": "IPython kernel implementation for Yandex DataSphere",
      "display_name": "Yandex DataSphere Kernel",
      "name": "python3",
      "resources": {},
      "spec": {
        "argv": [
          "/bin/true"
        ],
        "codemirror_mode": "python",
        "display_name": "Yandex DataSphere Kernel",
        "env": {},
        "help_links": [],
        "language": "python"
      }
    },
    "language_info": {
      "codemirror_mode": {
        "name": "ipython",
        "version": 3
      },
      "file_extension": ".py",
      "mimetype": "text/x-python",
      "name": "python",
      "nbconvert_exporter": "python",
      "pygments_lexer": "ipython3",
      "version": "3.7.7"
    },
    "notebookId": "91b28918-268d-4dc5-a12b-1b80e8ca8a56",
    "notebookPath": "wiki.ipynb",
    "widgets": {
      "application/vnd.jupyter.widget-state+json": {
        "03537193d1ba4b09897a20d07ab98040": {
          "model_module": "@jupyter-widgets/controls",
          "model_module_version": "1.5.0",
          "model_name": "DescriptionStyleModel",
          "state": {
            "_model_module": "@jupyter-widgets/controls",
            "_model_module_version": "1.5.0",
            "_model_name": "DescriptionStyleModel",
            "_view_count": null,
            "_view_module": "@jupyter-widgets/base",
            "_view_module_version": "1.2.0",
            "_view_name": "StyleView",
            "description_width": ""
          }
        },
        "283be442b502452ebc9a62e113ad537e": {
          "model_module": "@jupyter-widgets/controls",
          "model_module_version": "1.5.0",
          "model_name": "DescriptionStyleModel",
          "state": {
            "_model_module": "@jupyter-widgets/controls",
            "_model_module_version": "1.5.0",
            "_model_name": "DescriptionStyleModel",
            "_view_count": null,
            "_view_module": "@jupyter-widgets/base",
            "_view_module_version": "1.2.0",
            "_view_name": "StyleView",
            "description_width": ""
          }
        },
        "5994349a1b354814badbcdd4e18dc437": {
          "model_module": "@jupyter-widgets/base",
          "model_module_version": "1.2.0",
          "model_name": "LayoutModel",
          "state": {
            "_model_module": "@jupyter-widgets/base",
            "_model_module_version": "1.2.0",
            "_model_name": "LayoutModel",
            "_view_count": null,
            "_view_module": "@jupyter-widgets/base",
            "_view_module_version": "1.2.0",
            "_view_name": "LayoutView",
            "align_content": null,
            "align_items": null,
            "align_self": null,
            "border": null,
            "bottom": null,
            "display": null,
            "flex": null,
            "flex_flow": null,
            "grid_area": null,
            "grid_auto_columns": null,
            "grid_auto_flow": null,
            "grid_auto_rows": null,
            "grid_column": null,
            "grid_gap": null,
            "grid_row": null,
            "grid_template_areas": null,
            "grid_template_columns": null,
            "grid_template_rows": null,
            "height": null,
            "justify_content": null,
            "justify_items": null,
            "left": null,
            "margin": null,
            "max_height": null,
            "max_width": null,
            "min_height": null,
            "min_width": null,
            "object_fit": null,
            "object_position": null,
            "order": null,
            "overflow": null,
            "overflow_x": null,
            "overflow_y": null,
            "padding": null,
            "right": null,
            "top": null,
            "visibility": null,
            "width": null
          }
        },
        "7fc9fc51f28a477cbd41abd59e9225ee": {
          "model_module": "@jupyter-widgets/controls",
          "model_module_version": "1.5.0",
          "model_name": "HTMLModel",
          "state": {
            "_dom_classes": [],
            "_model_module": "@jupyter-widgets/controls",
            "_model_module_version": "1.5.0",
            "_model_name": "HTMLModel",
            "_view_count": null,
            "_view_module": "@jupyter-widgets/controls",
            "_view_module_version": "1.5.0",
            "_view_name": "HTMLView",
            "description": "",
            "description_tooltip": null,
            "layout": "IPY_MODEL_ddad36878fed4f7eb035e4ebec576caa",
            "placeholder": "​",
            "style": "IPY_MODEL_283be442b502452ebc9a62e113ad537e",
            "value": "100%"
          }
        },
        "a939b14f4eb14337b5b5b87fec8a3f4c": {
          "model_module": "@jupyter-widgets/base",
          "model_module_version": "1.2.0",
          "model_name": "LayoutModel",
          "state": {
            "_model_module": "@jupyter-widgets/base",
            "_model_module_version": "1.2.0",
            "_model_name": "LayoutModel",
            "_view_count": null,
            "_view_module": "@jupyter-widgets/base",
            "_view_module_version": "1.2.0",
            "_view_name": "LayoutView",
            "align_content": null,
            "align_items": null,
            "align_self": null,
            "border": null,
            "bottom": null,
            "display": null,
            "flex": null,
            "flex_flow": null,
            "grid_area": null,
            "grid_auto_columns": null,
            "grid_auto_flow": null,
            "grid_auto_rows": null,
            "grid_column": null,
            "grid_gap": null,
            "grid_row": null,
            "grid_template_areas": null,
            "grid_template_columns": null,
            "grid_template_rows": null,
            "height": null,
            "justify_content": null,
            "justify_items": null,
            "left": null,
            "margin": null,
            "max_height": null,
            "max_width": null,
            "min_height": null,
            "min_width": null,
            "object_fit": null,
            "object_position": null,
            "order": null,
            "overflow": null,
            "overflow_x": null,
            "overflow_y": null,
            "padding": null,
            "right": null,
            "top": null,
            "visibility": null,
            "width": null
          }
        },
        "b2efc2415dc0440f9f12e575ae1c1f69": {
          "model_module": "@jupyter-widgets/base",
          "model_module_version": "1.2.0",
          "model_name": "LayoutModel",
          "state": {
            "_model_module": "@jupyter-widgets/base",
            "_model_module_version": "1.2.0",
            "_model_name": "LayoutModel",
            "_view_count": null,
            "_view_module": "@jupyter-widgets/base",
            "_view_module_version": "1.2.0",
            "_view_name": "LayoutView",
            "align_content": null,
            "align_items": null,
            "align_self": null,
            "border": null,
            "bottom": null,
            "display": null,
            "flex": null,
            "flex_flow": null,
            "grid_area": null,
            "grid_auto_columns": null,
            "grid_auto_flow": null,
            "grid_auto_rows": null,
            "grid_column": null,
            "grid_gap": null,
            "grid_row": null,
            "grid_template_areas": null,
            "grid_template_columns": null,
            "grid_template_rows": null,
            "height": null,
            "justify_content": null,
            "justify_items": null,
            "left": null,
            "margin": null,
            "max_height": null,
            "max_width": null,
            "min_height": null,
            "min_width": null,
            "object_fit": null,
            "object_position": null,
            "order": null,
            "overflow": null,
            "overflow_x": null,
            "overflow_y": null,
            "padding": null,
            "right": null,
            "top": null,
            "visibility": null,
            "width": null
          }
        },
        "b5972246e77e4e04ad112ce6421fb852": {
          "model_module": "@jupyter-widgets/controls",
          "model_module_version": "1.5.0",
          "model_name": "HTMLModel",
          "state": {
            "_dom_classes": [],
            "_model_module": "@jupyter-widgets/controls",
            "_model_module_version": "1.5.0",
            "_model_name": "HTMLModel",
            "_view_count": null,
            "_view_module": "@jupyter-widgets/controls",
            "_view_module_version": "1.5.0",
            "_view_name": "HTMLView",
            "description": "",
            "description_tooltip": null,
            "layout": "IPY_MODEL_5994349a1b354814badbcdd4e18dc437",
            "placeholder": "​",
            "style": "IPY_MODEL_03537193d1ba4b09897a20d07ab98040",
            "value": " 3/3 [00:00&lt;00:00, 32.98it/s]"
          }
        },
        "c9a913538f484b35a3757b0c8476a7c7": {
          "model_module": "@jupyter-widgets/controls",
          "model_module_version": "1.5.0",
          "model_name": "ProgressStyleModel",
          "state": {
            "_model_module": "@jupyter-widgets/controls",
            "_model_module_version": "1.5.0",
            "_model_name": "ProgressStyleModel",
            "_view_count": null,
            "_view_module": "@jupyter-widgets/base",
            "_view_module_version": "1.2.0",
            "_view_name": "StyleView",
            "bar_color": null,
            "description_width": ""
          }
        },
        "d01ae8276f5540f3bfa329bcb3649799": {
          "model_module": "@jupyter-widgets/controls",
          "model_module_version": "1.5.0",
          "model_name": "FloatProgressModel",
          "state": {
            "_dom_classes": [],
            "_model_module": "@jupyter-widgets/controls",
            "_model_module_version": "1.5.0",
            "_model_name": "FloatProgressModel",
            "_view_count": null,
            "_view_module": "@jupyter-widgets/controls",
            "_view_module_version": "1.5.0",
            "_view_name": "ProgressView",
            "bar_style": "success",
            "description": "",
            "description_tooltip": null,
            "layout": "IPY_MODEL_b2efc2415dc0440f9f12e575ae1c1f69",
            "max": 3,
            "min": 0,
            "orientation": "horizontal",
            "style": "IPY_MODEL_c9a913538f484b35a3757b0c8476a7c7",
            "value": 3
          }
        },
        "d4c77a2514084242a13872843c9c0a06": {
          "model_module": "@jupyter-widgets/controls",
          "model_module_version": "1.5.0",
          "model_name": "HBoxModel",
          "state": {
            "_dom_classes": [],
            "_model_module": "@jupyter-widgets/controls",
            "_model_module_version": "1.5.0",
            "_model_name": "HBoxModel",
            "_view_count": null,
            "_view_module": "@jupyter-widgets/controls",
            "_view_module_version": "1.5.0",
            "_view_name": "HBoxView",
            "box_style": "",
            "children": [
              "IPY_MODEL_7fc9fc51f28a477cbd41abd59e9225ee",
              "IPY_MODEL_d01ae8276f5540f3bfa329bcb3649799",
              "IPY_MODEL_b5972246e77e4e04ad112ce6421fb852"
            ],
            "layout": "IPY_MODEL_a939b14f4eb14337b5b5b87fec8a3f4c"
          }
        },
        "ddad36878fed4f7eb035e4ebec576caa": {
          "model_module": "@jupyter-widgets/base",
          "model_module_version": "1.2.0",
          "model_name": "LayoutModel",
          "state": {
            "_model_module": "@jupyter-widgets/base",
            "_model_module_version": "1.2.0",
            "_model_name": "LayoutModel",
            "_view_count": null,
            "_view_module": "@jupyter-widgets/base",
            "_view_module_version": "1.2.0",
            "_view_name": "LayoutView",
            "align_content": null,
            "align_items": null,
            "align_self": null,
            "border": null,
            "bottom": null,
            "display": null,
            "flex": null,
            "flex_flow": null,
            "grid_area": null,
            "grid_auto_columns": null,
            "grid_auto_flow": null,
            "grid_auto_rows": null,
            "grid_column": null,
            "grid_gap": null,
            "grid_row": null,
            "grid_template_areas": null,
            "grid_template_columns": null,
            "grid_template_rows": null,
            "height": null,
            "justify_content": null,
            "justify_items": null,
            "left": null,
            "margin": null,
            "max_height": null,
            "max_width": null,
            "min_height": null,
            "min_width": null,
            "object_fit": null,
            "object_position": null,
            "order": null,
            "overflow": null,
            "overflow_x": null,
            "overflow_y": null,
            "padding": null,
            "right": null,
            "top": null,
            "visibility": null,
            "width": null
          }
        }
      }
    }
  },
  "nbformat": 4,
  "nbformat_minor": 4
}
